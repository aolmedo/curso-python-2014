{
 "metadata": {
  "name": "Clase1"
 },
 "nbformat": 3,
 "nbformat_minor": 0,
 "worksheets": [
  {
   "cells": [
    {
     "cell_type": "heading",
     "level": 1,
     "metadata": {},
     "source": [
      "Introducci\u00f3n a Python"
     ]
    },
    {
     "cell_type": "markdown",
     "metadata": {},
     "source": [
      "<img width=\"1092\" height=\"474\" src=\"images/logo_python.png\" alt=\"file:///home/aolmedo/curso-python-2014/images/logo_python.png\" class=\"shrinkToFit decoded\">"
     ]
    },
    {
     "cell_type": "heading",
     "level": 3,
     "metadata": {},
     "source": [
      "Tipos de b\u00e1sicos"
     ]
    },
    {
     "cell_type": "code",
     "collapsed": false,
     "input": [
      "anInteger = 3\n",
      "aFloat = 3.2\n",
      "aComplex = 3 + 5j"
     ],
     "language": "python",
     "metadata": {},
     "outputs": [],
     "prompt_number": 7
    },
    {
     "cell_type": "code",
     "collapsed": false,
     "input": [
      "s = 'Hola Mundo!'\n",
      "d = \"Hola Mundo!\"\n",
      "f = \"\"\"Hola Mundo!\"\"\""
     ],
     "language": "python",
     "metadata": {},
     "outputs": []
    },
    {
     "cell_type": "code",
     "collapsed": false,
     "input": [
      "verdadero = True\n",
      "falso = False"
     ],
     "language": "python",
     "metadata": {},
     "outputs": []
    },
    {
     "cell_type": "code",
     "collapsed": false,
     "input": [
      "nulo = None"
     ],
     "language": "python",
     "metadata": {},
     "outputs": []
    },
    {
     "cell_type": "heading",
     "level": 3,
     "metadata": {},
     "source": [
      "Tipos"
     ]
    },
    {
     "cell_type": "code",
     "collapsed": false,
     "input": [
      "tupla = (1, 2, 3)\n"
     ],
     "language": "python",
     "metadata": {},
     "outputs": [],
     "prompt_number": 2
    }
   ],
   "metadata": {}
  }
 ]
}