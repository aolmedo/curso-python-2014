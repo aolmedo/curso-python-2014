{
 "metadata": {
  "name": "Clase1_ejercicios_resultos"
 },
 "nbformat": 3,
 "nbformat_minor": 0,
 "worksheets": [
  {
   "cells": [
    {
     "cell_type": "heading",
     "level": 1,
     "metadata": {},
     "source": [
      "Introducci\u00f3n a Python"
     ]
    },
    {
     "cell_type": "heading",
     "level": 3,
     "metadata": {},
     "source": [
      "Tipos b\u00e1sicos"
     ]
    },
    {
     "cell_type": "code",
     "collapsed": false,
     "input": [
      "anInteger = 3\n",
      "aFloat = 3.2\n",
      "aComplex = 3 + 5j"
     ],
     "language": "python",
     "metadata": {},
     "outputs": []
    },
    {
     "cell_type": "code",
     "collapsed": false,
     "input": [
      "s = 'Hola Mundo!'\n",
      "d = \"Hola Mundo!\"\n",
      "f = \"\"\"Hola Mundo!\"\"\""
     ],
     "language": "python",
     "metadata": {},
     "outputs": []
    },
    {
     "cell_type": "code",
     "collapsed": false,
     "input": [
      "verdadero = True\n",
      "falso = False"
     ],
     "language": "python",
     "metadata": {},
     "outputs": []
    },
    {
     "cell_type": "code",
     "collapsed": false,
     "input": [
      "nulo = None"
     ],
     "language": "python",
     "metadata": {},
     "outputs": []
    },
    {
     "cell_type": "heading",
     "level": 3,
     "metadata": {},
     "source": [
      "Operadores"
     ]
    },
    {
     "cell_type": "heading",
     "level": 4,
     "metadata": {},
     "source": [
      "comparaci\u00f3n"
     ]
    },
    {
     "cell_type": "code",
     "collapsed": false,
     "input": [
      "print anInteger == 3\n",
      "print anInteger != 4\n",
      "print anInteger >= 1\n",
      "print anInteger > 1\n",
      "print anInteger <= 5\n",
      "print anInteger < 5"
     ],
     "language": "python",
     "metadata": {},
     "outputs": []
    },
    {
     "cell_type": "heading",
     "level": 4,
     "metadata": {},
     "source": [
      "Booleanos"
     ]
    },
    {
     "cell_type": "code",
     "collapsed": false,
     "input": [
      "print verdadero and verdadero\n",
      "print verdadero and falso\n",
      "print verdadero or falso\n",
      "print falso or falso\n",
      "print not falso\n",
      "print not verdadero"
     ],
     "language": "python",
     "metadata": {},
     "outputs": []
    },
    {
     "cell_type": "heading",
     "level": 4,
     "metadata": {},
     "source": [
      "Aritm\u00e9ticos"
     ]
    },
    {
     "cell_type": "code",
     "collapsed": false,
     "input": [
      "print anInteger + aFloat\n",
      "print aFloat - anInteger\n",
      "print anInteger * anInteger\n",
      "print anInteger / anInteger\n",
      "print anInteger % 2\n",
      "print anInteger % 3\n",
      "print anInteger ** 2\n",
      "print anInteger // 3"
     ],
     "language": "python",
     "metadata": {},
     "outputs": []
    },
    {
     "cell_type": "heading",
     "level": 4,
     "metadata": {},
     "source": [
      "Asignaci\u00f3n"
     ]
    },
    {
     "cell_type": "code",
     "collapsed": false,
     "input": [
      "anInt = 3\n",
      "anInt += 2\n",
      "anInt -= 1\n",
      "anInt *= 2\n",
      "anInt /= 2\n",
      "anInt %= 2\n",
      "anInt **= 3\n",
      "anInt //= 3\n",
      "print \"El resultado es: %s\" % anInt\n",
      "print \"El resultado es:\", anInt\n",
      "print \"El resultado es: \" + str(anInt)"
     ],
     "language": "python",
     "metadata": {},
     "outputs": []
    },
    {
     "cell_type": "heading",
     "level": 4,
     "metadata": {},
     "source": [
      "Pertenencia"
     ]
    },
    {
     "cell_type": "code",
     "collapsed": false,
     "input": [
      "print 1 in [1, 2, 3]\n",
      "print 2 not in [1, 3, 5]"
     ],
     "language": "python",
     "metadata": {},
     "outputs": []
    },
    {
     "cell_type": "heading",
     "level": 4,
     "metadata": {},
     "source": [
      "Identidad"
     ]
    },
    {
     "cell_type": "code",
     "collapsed": false,
     "input": [
      "print 1 is 1\n",
      "print not 2 is 3\n",
      "print None is None\n",
      "print 1 is None"
     ],
     "language": "python",
     "metadata": {},
     "outputs": []
    },
    {
     "cell_type": "heading",
     "level": 4,
     "metadata": {},
     "source": [
      "Operadores a nivel de bits"
     ]
    },
    {
     "cell_type": "code",
     "collapsed": false,
     "input": [
      "print 1 & 1\n",
      "print 1 & 2\n",
      "print True & False\n",
      "print 1 | 1\n",
      "print 1 | 2\n",
      "print True | False\n",
      "print 2 ^ 2\n",
      "print ~3\n",
      "print ~False\n",
      "print 2 >> 3\n",
      "print 2 << 3"
     ],
     "language": "python",
     "metadata": {},
     "outputs": []
    },
    {
     "cell_type": "heading",
     "level": 3,
     "metadata": {},
     "source": [
      "Tipos de datos"
     ]
    },
    {
     "cell_type": "heading",
     "level": 4,
     "metadata": {},
     "source": [
      "Tuplas"
     ]
    },
    {
     "cell_type": "code",
     "collapsed": false,
     "input": [
      "tupla = (1, 2, 3)\n",
      "print tupla"
     ],
     "language": "python",
     "metadata": {},
     "outputs": []
    },
    {
     "cell_type": "heading",
     "level": 4,
     "metadata": {},
     "source": [
      "Listas"
     ]
    },
    {
     "cell_type": "code",
     "collapsed": false,
     "input": [
      "lista = [1, 2, 3]\n",
      "print lista"
     ],
     "language": "python",
     "metadata": {},
     "outputs": []
    },
    {
     "cell_type": "heading",
     "level": 4,
     "metadata": {},
     "source": [
      "Diccionarios"
     ]
    },
    {
     "cell_type": "code",
     "collapsed": false,
     "input": [
      "diccionario = {'uno': 1, 'dos': 2, 'tres': 3}\n",
      "print diccionario"
     ],
     "language": "python",
     "metadata": {},
     "outputs": []
    },
    {
     "cell_type": "heading",
     "level": 4,
     "metadata": {},
     "source": [
      "Conjuntos"
     ]
    },
    {
     "cell_type": "code",
     "collapsed": false,
     "input": [
      "conjunto = set([1, 2, 3, 1])\n",
      "print conjunto"
     ],
     "language": "python",
     "metadata": {},
     "outputs": []
    },
    {
     "cell_type": "heading",
     "level": 3,
     "metadata": {},
     "source": [
      "Control de Flujo"
     ]
    },
    {
     "cell_type": "heading",
     "level": 4,
     "metadata": {},
     "source": [
      "Condicionales"
     ]
    },
    {
     "cell_type": "code",
     "collapsed": false,
     "input": [
      "n = 3\n",
      "if n > 0:\n",
      "    n -= 1\n",
      "\n",
      "# otra forma\n",
      "n = 2\n",
      "if n % 2 == 0:\n",
      "    print \"El n\u00famero %s es par\" % n\n",
      "else:\n",
      "    print \"El n\u00famero %s es impar\" % n\n",
      "\n",
      "# otra forma\n",
      "if n == 1:\n",
      "    print \"El n\u00famero es uno\"\n",
      "elif n == 2:\n",
      "    \"El n\u00famero es dos\"\n",
      "elif n == 3:\n",
      "    \"El n\u00famero es tres\"\n",
      "else:\n",
      "    print \"El n\u00famero es mayor a tres\"\n",
      "    \n",
      "#otra forma\n",
      "print 'El n\u00famero es par' if n % 2 == 0 else 'El n\u00famero es impar'"
     ],
     "language": "python",
     "metadata": {},
     "outputs": []
    },
    {
     "cell_type": "heading",
     "level": 4,
     "metadata": {},
     "source": [
      "Ciclos"
     ]
    },
    {
     "cell_type": "code",
     "collapsed": false,
     "input": [
      "nuevaLista = []\n",
      "for e in lista:\n",
      "    nuevaLista.append(e + 1)\n",
      "print nuevaLista\n",
      "\n",
      "n = 9\n",
      "nuevaLista = []\n",
      "while n > 0:\n",
      "    nuevaLista.append(n)\n",
      "    n -= 1\n",
      "print nuevaLista"
     ],
     "language": "python",
     "metadata": {},
     "outputs": []
    },
    {
     "cell_type": "heading",
     "level": 2,
     "metadata": {},
     "source": [
      "1. Ejercicios"
     ]
    },
    {
     "cell_type": "heading",
     "level": 3,
     "metadata": {},
     "source": [
      "Ejercicio 1.1"
     ]
    },
    {
     "cell_type": "heading",
     "level": 4,
     "metadata": {},
     "source": [
      "Escribir un programa que reciba tres n\u00fameros, a trav\u00e9s de la entrada est\u00e1ndar, y devuelva el mayor."
     ]
    },
    {
     "cell_type": "code",
     "collapsed": false,
     "input": [
      "def ejercicio_1():\n",
      "    a = raw_input(\"Ingrese un numero: \")\n",
      "    b = raw_input(\"Ingrese otro numero: \")\n",
      "    c = raw_input(\"Ingrese otro numero: \")\n",
      "    a = int(a)\n",
      "    b = int(b)\n",
      "    c = int(c)\n",
      "\n",
      "    ret = a\n",
      "    if a > b:\n",
      "        if a > c:\n",
      "            ret = a\n",
      "        else:\n",
      "            ret = c\n",
      "    else:\n",
      "        if b > c:\n",
      "            ret = b\n",
      "        else:\n",
      "            ret = c\n",
      "    return \"El mayor de los numeros es: %s\" % ret\n",
      "ejercicio_1()"
     ],
     "language": "python",
     "metadata": {},
     "outputs": []
    },
    {
     "cell_type": "heading",
     "level": 3,
     "metadata": {},
     "source": [
      "Ejercicio 1.2"
     ]
    },
    {
     "cell_type": "heading",
     "level": 4,
     "metadata": {},
     "source": [
      "Escribir un programa que reciba un n\u00famero, a trav\u00e9s de la entrada est\u00e1ndar, y que devuelva si el mismo es primo."
     ]
    },
    {
     "cell_type": "code",
     "collapsed": false,
     "input": [
      "def es_numero_primo(numero):\n",
      "    return numero > 1 and len([n for n in range(2, numero-1) if numero % n == 0]) == 0\n",
      "\n",
      "print es_numero_primo(1)\n",
      "print es_numero_primo(2)\n",
      "print es_numero_primo(3)\n",
      "print es_numero_primo(4)\n",
      "print es_numero_primo(5)\n",
      "print es_numero_primo(7)\n",
      "print es_numero_primo(443)"
     ],
     "language": "python",
     "metadata": {},
     "outputs": []
    },
    {
     "cell_type": "heading",
     "level": 2,
     "metadata": {},
     "source": [
      "Programaci\u00f3n funcional"
     ]
    },
    {
     "cell_type": "heading",
     "level": 4,
     "metadata": {},
     "source": [
      "Funci\u00f3n range"
     ]
    },
    {
     "cell_type": "code",
     "collapsed": false,
     "input": [
      "range(10)"
     ],
     "language": "python",
     "metadata": {},
     "outputs": []
    },
    {
     "cell_type": "heading",
     "level": 4,
     "metadata": {},
     "source": [
      "Funciones impl\u00edcitas"
     ]
    },
    {
     "cell_type": "code",
     "collapsed": false,
     "input": [
      "f = lambda x: x + 1\n",
      "compare = lambda x, y: x > y\n",
      "print f(2)\n",
      "print compare(1, 2)"
     ],
     "language": "python",
     "metadata": {},
     "outputs": []
    },
    {
     "cell_type": "heading",
     "level": 4,
     "metadata": {},
     "source": [
      "map"
     ]
    },
    {
     "cell_type": "code",
     "collapsed": false,
     "input": [
      "print \"Resultado de map: %s\" % map(lambda x: x + 1, [1, 2, 3])"
     ],
     "language": "python",
     "metadata": {},
     "outputs": []
    },
    {
     "cell_type": "heading",
     "level": 4,
     "metadata": {},
     "source": [
      "filter"
     ]
    },
    {
     "cell_type": "code",
     "collapsed": false,
     "input": [
      "print \"Resultado de filter: %s\" % filter(lambda x: x % 2 == 0, [1, 2, 3, 4])"
     ],
     "language": "python",
     "metadata": {},
     "outputs": []
    },
    {
     "cell_type": "heading",
     "level": 4,
     "metadata": {},
     "source": [
      "reduce"
     ]
    },
    {
     "cell_type": "code",
     "collapsed": false,
     "input": [
      "print \"Resultado de reduce: %s\" % reduce(lambda x, y: x + y, [1, 2, 3])"
     ],
     "language": "python",
     "metadata": {},
     "outputs": []
    },
    {
     "cell_type": "heading",
     "level": 4,
     "metadata": {},
     "source": [
      "Listas por comprensi\u00f3n"
     ]
    },
    {
     "cell_type": "code",
     "collapsed": false,
     "input": [
      "print range(5)\n",
      "print [x + 1 for x in range(4)]\n",
      "print [x for x in range(4) if x % 2 == 0]"
     ],
     "language": "python",
     "metadata": {},
     "outputs": []
    },
    {
     "cell_type": "heading",
     "level": 4,
     "metadata": {},
     "source": [
      "Generadores"
     ]
    },
    {
     "cell_type": "code",
     "collapsed": false,
     "input": [
      "generador = (x+1 for x in range(4))\n",
      "print generador\n",
      "for x in generador:\n",
      "    print x"
     ],
     "language": "python",
     "metadata": {},
     "outputs": []
    },
    {
     "cell_type": "code",
     "collapsed": false,
     "input": [
      "def reversa(datos):\n",
      "    for indice in range(len(datos) -1, -1, -1):\n",
      "        yield datos[indice]\n",
      "\n",
      "for letra in reversa('agustin'):\n",
      "    print letra"
     ],
     "language": "python",
     "metadata": {},
     "outputs": []
    },
    {
     "cell_type": "heading",
     "level": 4,
     "metadata": {},
     "source": [
      "Decoradores"
     ]
    },
    {
     "cell_type": "raw",
     "metadata": {},
     "source": [
      "Un decorador no es es m\u00e1s que una funci\u00f3n que recibe una funci\u00f3n como par\u00e1metro y devuelve otra funci\u00f3n como resultado.\n",
      "\n",
      "Ejemplos de uso: Validaciones, pre y post condiciones, etc."
     ]
    },
    {
     "cell_type": "heading",
     "level": 2,
     "metadata": {},
     "source": [
      "2. Ejercicios: Programaci\u00f3n Funcional"
     ]
    },
    {
     "cell_type": "heading",
     "level": 3,
     "metadata": {},
     "source": [
      "Ejercicio 2.1"
     ]
    },
    {
     "cell_type": "heading",
     "level": 4,
     "metadata": {},
     "source": [
      "Crear una funci\u00f3n lambda que reciba dos n\u00fameros y devuelva el mayor."
     ]
    },
    {
     "cell_type": "code",
     "collapsed": false,
     "input": [
      "maximo = lambda x, y: x > y and x or y\n",
      "maximo_2 = lambda x, y: x if x > y else y\n",
      "    \n",
      "print maximo(2,5)\n",
      "print maximo_2(7,3)"
     ],
     "language": "python",
     "metadata": {},
     "outputs": []
    },
    {
     "cell_type": "heading",
     "level": 3,
     "metadata": {},
     "source": [
      "Ejercicio 2.2"
     ]
    },
    {
     "cell_type": "heading",
     "level": 4,
     "metadata": {},
     "source": [
      "Realizar una funci\u00f3n que devuelva el m\u00e1ximo de una lista, utilizando programaci\u00f3n funcional."
     ]
    },
    {
     "cell_type": "code",
     "collapsed": false,
     "input": [
      "def maximo_lista(lista):\n",
      "    ret = lista[0]\n",
      "    for element in lista:\n",
      "        ret = maximo(ret, element)\n",
      "    return ret\n",
      "\n",
      "maximo_lista_2 = lambda lista: reduce(lambda x, y: maximo(x, y), lista)\n",
      "\n",
      "print maximo_lista([5,42,10,12,23,33])\n",
      "print maximo_lista_2([5,42,10,12,23,33])\n",
      "        "
     ],
     "language": "python",
     "metadata": {},
     "outputs": []
    },
    {
     "cell_type": "heading",
     "level": 3,
     "metadata": {},
     "source": [
      "Ejercicio 2.3"
     ]
    },
    {
     "cell_type": "heading",
     "level": 4,
     "metadata": {},
     "source": [
      "Generar una lista que contenga los primeros 100 n\u00fameros primos."
     ]
    },
    {
     "cell_type": "code",
     "collapsed": false,
     "input": [
      "def primeros_100_primos():\n",
      "    ret = []\n",
      "    n = 2\n",
      "    while len(ret) < 100:\n",
      "        if es_numero_primo(n):\n",
      "            ret.append(n)\n",
      "        n += 1\n",
      "    return ret\n",
      "\n",
      "cien_primos = primeros_100_primos()\n",
      "print len(cien_primos)\n",
      "print cien_primos\n",
      "\n",
      "def primeros_primos_hasta(k):\n",
      "    ret = []\n",
      "    n = 2\n",
      "    while len(ret) < k:\n",
      "        if es_numero_primo(n):\n",
      "            ret.append(n)\n",
      "        n += 1\n",
      "    return ret\n",
      "\n",
      "primeros_primos = primeros_primos_hasta(1000)\n",
      "print len(primeros_primos)\n",
      "print primeros_primos"
     ],
     "language": "python",
     "metadata": {},
     "outputs": []
    },
    {
     "cell_type": "heading",
     "level": 3,
     "metadata": {},
     "source": [
      "Ejercicio 2.4"
     ]
    },
    {
     "cell_type": "heading",
     "level": 4,
     "metadata": {},
     "source": [
      "Realizar una lista por comprensi\u00f3n que contenga los n\u00fameros primos menores a 1000."
     ]
    },
    {
     "cell_type": "code",
     "collapsed": false,
     "input": [
      "primeros_cien_primos = [n for n in range(2,6*100) if es_numero_primo(n)][:100]\n",
      "print len(primeros_cien_primos)\n",
      "primeros_primos_hasta = lambda k: [n for n in (x for x in range(2,10 * k)) if es_numero_primo(n)][:k]\n",
      "print len(primeros_primos_hasta(200))"
     ],
     "language": "python",
     "metadata": {},
     "outputs": []
    },
    {
     "cell_type": "heading",
     "level": 3,
     "metadata": {},
     "source": [
      "Ejercicio 2.5"
     ]
    },
    {
     "cell_type": "heading",
     "level": 4,
     "metadata": {},
     "source": [
      "Realizar un generador que genere los n\u00fameros primos menores a 1000."
     ]
    },
    {
     "cell_type": "code",
     "collapsed": false,
     "input": [
      "def generar_primeros_primos_hasta(k):\n",
      "    q = 0\n",
      "    n = 2\n",
      "    while q < k:\n",
      "        if es_numero_primo(n):\n",
      "            q +=1\n",
      "            yield n\n",
      "        n += 1\n",
      "g = generar_primeros_primos_hasta(100)\n",
      "print g\n",
      "print g.next()\n",
      "print g.next()\n",
      "print g.next()\n",
      "print [x for x in g]"
     ],
     "language": "python",
     "metadata": {},
     "outputs": []
    },
    {
     "cell_type": "heading",
     "level": 3,
     "metadata": {},
     "source": [
      "Ejercicio 2.6"
     ]
    },
    {
     "cell_type": "heading",
     "level": 4,
     "metadata": {},
     "source": [
      "Realizar un decorador que valide que el par\u00e1metro de una funci\u00f3n unaria sea positivo."
     ]
    },
    {
     "cell_type": "code",
     "collapsed": false,
     "input": [
      "def mayor_cero(aFunction):\n",
      "    def inner(*args, **kwargs):\n",
      "        param = args[0]\n",
      "        if param > 0:\n",
      "            return aFunction(*args, **kwargs)\n",
      "        else:\n",
      "            print \"El par\u00e1metro debe ser mayor que cero\"\n",
      "    return inner\n",
      "        \n",
      "@mayor_cero\n",
      "def es_numero_primo(numero):\n",
      "    return numero > 1 and len([n for n in range(2, numero-1) if numero % n == 0]) == 0\n",
      "\n",
      "es_numero_primo(-5)\n",
      "es_numero_primo(0)\n",
      "print es_numero_primo(1)\n",
      "print es_numero_primo(2)"
     ],
     "language": "python",
     "metadata": {},
     "outputs": []
    }
   ],
   "metadata": {}
  }
 ]
}