{
 "metadata": {
  "name": "Clase2"
 },
 "nbformat": 3,
 "nbformat_minor": 0,
 "worksheets": [
  {
   "cells": [
    {
     "cell_type": "heading",
     "level": 2,
     "metadata": {},
     "source": [
      "Programaci\u00f3n orientada a objetos (POO)"
     ]
    },
    {
     "cell_type": "heading",
     "level": 3,
     "metadata": {},
     "source": [
      "Clases"
     ]
    },
    {
     "cell_type": "code",
     "collapsed": false,
     "input": [
      "class Auto(object):\n",
      "    \"\"\"Abstracci\u00f3n de un automovil.\"\"\"\n",
      "    def __init__(self, gasolina):\n",
      "        self.gasolina = gasolina\n",
      "        print \"Tenemos\", gasolina, \"litros de gasolina\"\n",
      "        \n",
      "    def arrancar(self):\n",
      "        if self.gasolina > 0:\n",
      "            print \"Arranca\"\n",
      "        else:\n",
      "            print \"No arranca\"\n",
      "            \n",
      "    def conducir(self):\n",
      "        if self.gasolina > 0:\n",
      "            self.gasolina -= 1\n",
      "            print \"Quedan\", self.gasolina, \"litros\"\n",
      "        else:\n",
      "            print \"No se mueve\""
     ],
     "language": "python",
     "metadata": {},
     "outputs": []
    },
    {
     "cell_type": "code",
     "collapsed": false,
     "input": [
      "auto = Auto(3)\n",
      "auto.arrancar()\n",
      "auto.conducir()\n",
      "auto.conducir()\n",
      "auto.conducir()\n",
      "auto.conducir()"
     ],
     "language": "python",
     "metadata": {},
     "outputs": []
    },
    {
     "cell_type": "raw",
     "metadata": {},
     "source": [
      "M\u00e9todos de clase:\n",
      "\n",
      "Se definen decorando el m\u00e9todo con el decorador:\n",
      "@classmethod"
     ]
    },
    {
     "cell_type": "raw",
     "metadata": {},
     "source": [
      "Variables de clase:\n",
      "\n",
      "Se define fuera de la definici\u00f3n de los m\u00e9todos."
     ]
    },
    {
     "cell_type": "heading",
     "level": 3,
     "metadata": {},
     "source": [
      "Herencia"
     ]
    },
    {
     "cell_type": "heading",
     "level": 4,
     "metadata": {},
     "source": [
      "Herencia simple"
     ]
    },
    {
     "cell_type": "code",
     "collapsed": false,
     "input": [
      "class Instrumento:\n",
      "\tdef __init__(self, precio):\n",
      "\t\tself.precio = precio\n",
      "        \n",
      "\tdef tocar(self):\n",
      "\t\treturn \"Estamos tocando musica\"\n",
      "        \n",
      "\tdef romper(self):\n",
      "        return \"Eso lo pagas tu. Son $%s\" % self.precio\n",
      "        \n",
      "class Guitarra(Instrumento):\n",
      "    pass\n",
      "\n",
      "class Bateria(Instrumento):\n",
      "    def tocar(self):\n",
      "        return \"Estamos tocando la bateria\"\n"
     ],
     "language": "python",
     "metadata": {},
     "outputs": []
    },
    {
     "cell_type": "code",
     "collapsed": false,
     "input": [
      "guitarra = Guitarra(1000)\n",
      "print guitarra.tocar()\n",
      "print guitarra.romper()\n",
      "\n",
      "bateria = Bateria(2500)\n",
      "print bateria.tocar()\n",
      "print bateria.romper()\n"
     ],
     "language": "python",
     "metadata": {},
     "outputs": []
    },
    {
     "cell_type": "heading",
     "level": 4,
     "metadata": {},
     "source": [
      "Herencia M\u00faltiple"
     ]
    },
    {
     "cell_type": "code",
     "collapsed": false,
     "input": [
      "class Terrestre:\n",
      "    def desplazar(self):\n",
      "        return \"El animal anda\"\n",
      "\n",
      "class Acuatico:\n",
      "    def desplazar(self):\n",
      "        return \"El animal nada\"\n",
      "    \n",
      "class Cocodrilo(Terrestre, Acuatico):\n",
      "    pass"
     ],
     "language": "python",
     "metadata": {},
     "outputs": []
    },
    {
     "cell_type": "code",
     "collapsed": false,
     "input": [
      "cocodrilo = Cocodrilo()\n",
      "cocodrilo.desplazar()"
     ],
     "language": "python",
     "metadata": {},
     "outputs": []
    },
    {
     "cell_type": "heading",
     "level": 3,
     "metadata": {},
     "source": [
      "M\u00e9todos \"m\u00e1gicos\""
     ]
    },
    {
     "cell_type": "heading",
     "level": 4,
     "metadata": {},
     "source": [
      "Aritm\u00e9ticos"
     ]
    },
    {
     "cell_type": "raw",
     "metadata": {},
     "source": [
      "__add__\n",
      "__sub__\n",
      "__mul__\n",
      "__div__"
     ]
    },
    {
     "cell_type": "heading",
     "level": 4,
     "metadata": {},
     "source": [
      "Comparaci\u00f3n"
     ]
    },
    {
     "cell_type": "raw",
     "metadata": {},
     "source": [
      "__cmp__\n",
      "__eq__\n",
      "__lt__\n",
      "__gt__"
     ]
    },
    {
     "cell_type": "heading",
     "level": 4,
     "metadata": {},
     "source": [
      "Context Managers"
     ]
    },
    {
     "cell_type": "raw",
     "metadata": {},
     "source": [
      "__enter__\n",
      "__exit__"
     ]
    },
    {
     "cell_type": "heading",
     "level": 4,
     "metadata": {},
     "source": [
      "Acceso a atributos"
     ]
    },
    {
     "cell_type": "raw",
     "metadata": {},
     "source": [
      "__getattr__\n",
      "__setattr__\n",
      "__delattr__"
     ]
    },
    {
     "cell_type": "heading",
     "level": 4,
     "metadata": {},
     "source": [
      "Constructores/inicializaci\u00f3n"
     ]
    },
    {
     "cell_type": "raw",
     "metadata": {},
     "source": [
      "__init__\n",
      "__new__\n",
      "__del__"
     ]
    },
    {
     "cell_type": "heading",
     "level": 4,
     "metadata": {},
     "source": [
      "Representaci\u00f3n de las clases"
     ]
    },
    {
     "cell_type": "raw",
     "metadata": {},
     "source": [
      "__str__\n",
      "__repr__\n",
      "__unicode__"
     ]
    },
    {
     "cell_type": "heading",
     "level": 4,
     "metadata": {},
     "source": [
      "Secuencias/Diccionarios "
     ]
    },
    {
     "cell_type": "raw",
     "metadata": {},
     "source": [
      "__len__\n",
      "__getitem__\n",
      "__setitem__\n",
      "__iter__"
     ]
    },
    {
     "cell_type": "heading",
     "level": 4,
     "metadata": {},
     "source": [
      "Descriptores de archivos"
     ]
    },
    {
     "cell_type": "raw",
     "metadata": {},
     "source": [
      "__get__\n",
      "__set__\n",
      "__delete__"
     ]
    },
    {
     "cell_type": "heading",
     "level": 3,
     "metadata": {},
     "source": [
      "Objetos conocidos"
     ]
    },
    {
     "cell_type": "markdown",
     "metadata": {},
     "source": [
      "<b>Diccionarios: </b>\n",
      "<ul>\n",
      "    <li>keys()</li>\n",
      "    <li>items()</li>\n",
      "    <li>len()</li>\n",
      "    <li>get()</li>\n",
      "    <li>iteritems()</li>\n",
      "</ul>\n",
      "<b>Cadenas de texto: </b>\n",
      "<ul>\n",
      "    <li>len(aString)</li>\n",
      "    <li>join(aList)</li>\n",
      "    <li>lower()</li>\n",
      "    <li>upper()</li>\n",
      "    <li>split()</li>\n",
      "</ul>\n",
      "<b>Listas: </b>\n",
      "<ul>\n",
      "    <li>append(anElement)</li>\n",
      "    <li>insert()</li>\n",
      "    <li>remove()</li>\n",
      "    <li>extends()</li>\n",
      "    <li>pop()</li>\n",
      "    <li>sort()</li>\n",
      "    <li>len()</li>\n",
      "</ul>"
     ]
    },
    {
     "cell_type": "heading",
     "level": 3,
     "metadata": {},
     "source": [
      "Encapsulamiento"
     ]
    },
    {
     "cell_type": "code",
     "collapsed": false,
     "input": [
      "class EjemploEncapsulamiento:\n",
      "    \n",
      "    def publico(self):\n",
      "        print \"P\u00fablico\"\n",
      "    \n",
      "    def __privado(self):\n",
      "        print \"Privado\"\n",
      "        \n",
      "    def privado(self):\n",
      "        self.__privado()\n",
      "    \n",
      "   \n",
      "ejemplo = EjemploEncapsulamiento()\n",
      "ejemplo.publico()\n",
      "ejemplo.privado()\n",
      "ejemplo.__privado()"
     ],
     "language": "python",
     "metadata": {},
     "outputs": []
    },
    {
     "cell_type": "code",
     "collapsed": false,
     "input": [
      "class EjemploPropiedades:\n",
      "    def __init__(self):\n",
      "        self._x = None\n",
      "\n",
      "    def getx(self):\n",
      "        return self._x\n",
      "        \n",
      "    def setx(self, value):\n",
      "        self._x = value\n",
      "        \n",
      "    def delx(self):\n",
      "        del self._x\n",
      "        \n",
      "    @property\n",
      "    def propiedad(self):\n",
      "        print \"Propiedad\"\n",
      "        \n",
      "    x = property(getx, setx, delx, \"Propiedad llamada: 'propiedad_completa'.\")\n",
      "\n",
      "ejemplo = EjemploPropiedades()\n",
      "ejemplo.propiedad\n",
      "ejemplo.x = 10\n",
      "ejemplo.x\n",
      "#del ejemplo.x"
     ],
     "language": "python",
     "metadata": {},
     "outputs": []
    },
    {
     "cell_type": "heading",
     "level": 3,
     "metadata": {},
     "source": [
      "Polimorfismo"
     ]
    },
    {
     "cell_type": "markdown",
     "metadata": {},
     "source": [
      "<h4>Como Python es un lenguaje din\u00e1micamente tipado se puede aprovechar al m\u00e1ximo el polimorfismo.</h4>"
     ]
    },
    {
     "cell_type": "code",
     "collapsed": false,
     "input": [
      "class AClass:\n",
      "    def __init__(self):\n",
      "        self.list = []\n",
      "        \n",
      "    def add(self, anElement):\n",
      "        self.list.append(anElement)\n",
      "        \n",
      "class AnotherClass:\n",
      "    def __init__(self):\n",
      "        self.set = set([])\n",
      "        \n",
      "    def add(self, anElement):\n",
      "        self.set.add(anElement)\n",
      "        \n",
      "aClass = AClass()\n",
      "aClass.add(1)\n",
      "anotherClass = AnotherClass()\n",
      "anotherClass.add(2)\n",
      "print aClass.list\n",
      "print anotherClass.set\n",
      "        "
     ],
     "language": "python",
     "metadata": {},
     "outputs": []
    },
    {
     "cell_type": "heading",
     "level": 2,
     "metadata": {},
     "source": [
      "3. Ejercicio POO"
     ]
    },
    {
     "cell_type": "markdown",
     "metadata": {},
     "source": [
      "<h3>3.1 Extender la clase list para que soporte las siguientes funcionalidades (al estilo Smalltalk):</h3>\n",
      "\n",
      "<ul>\n",
      "    <li><b>first: </b>devuelve el primer elemento</li>\n",
      "    <li><b>second: </b>devuelve el segundo elemento</li>\n",
      "    <li><b>third: </b>devuelve el tercer elemento</li>\n",
      "    <li><b>fourth: </b>devuelve el cuarto elemento</li>\n",
      "    <li><b>fifth: </b>devuelve el quinto elemento</li>\n",
      "    <li><b>last: </b>devuelve el \u00faltimo elemento</li>\n",
      "</ul>\n",
      "\n",
      "<p>Estos \u00faltimos ponerlos como properties.</p>\n",
      "\n",
      "<ul>\n",
      "    <li><b>select(aCondition): </b>Selecciona los elementos de la lista que cumplen con la condici\u00f3n aCondition</li>\n",
      "<li><b>reject(aCondition): </b>Elimina los elementos de la lista que cumplen con la condici\u00f3n aCondition</li>\n",
      "<li><b>collect(aFunction): </b>Colecciona los elementos que resultan de aplicar la funci\u00f3n aFunction a los elementos de la lista</li>\n",
      "<li><b>injectInto(anElement, aFunction): </b>Acumulador. Ejemplo: aList injectInto(0, lambda subTotal, next: subTotal + next) deber\u00eda devolverme la suma de los elementos.</li>\n",
      "<li><b>detect(aCondition): </b>Detecta si hay un elemento de la lista que cumple la condici\u00f3n aCondition</li>\n",
      "    <li><b>detectIfFoundIfNone(aCondition, aFunction, aFunction): </b></li>\n",
      "<li><b>do(aFunction): </b>por cada elemento de la lista realiza la funci\u00f3n aFunction</li>\n",
      "\n",
      "<li><b>shuffle: </b>mezclar los elementos de la lista</li>\n",
      " \n",
      "<li><b>isEmpty: </b>indica si la lista esta vacia</li>\n",
      "<li><b>includes(anElement): </b>indica si la lista contiene el elemento anElement</li>\n",
      "<li><b>sum: </b>Devuelve el resultado de sumar los elementos de la lista</li>\n",
      "<li><b>average: </b>Devuelve el promedio de los elementos de la lista</li>\n",
      "<li><b>max: </b>devuelve el m\u00e1ximo de la lista</li>\n",
      "    <li><b>min: </b>devuelve el m\u00ednimo de la lista</li>\n",
      "</ul>\n",
      "\n"
     ]
    },
    {
     "cell_type": "heading",
     "level": 1,
     "metadata": {},
     "source": [
      "Manejo de Archivos"
     ]
    },
    {
     "cell_type": "code",
     "collapsed": false,
     "input": [
      "#Creamos o abrimos un archivo en modo escritura\n",
      "f = open(\"file.txt\", 'w')\n",
      "#Escribimos en el archivo\n",
      "f.write(\"hola mundo!\\n\")\n",
      "f.writelines(\"Escribimos una primera l\u00ednea.\\n\")\n",
      "f.writelines(\"Escribimos una segunda l\u00ednea.\\n\")\n",
      "#Cerramos el archivo\n",
      "f.close()\n",
      "\n",
      "#Abro el archivo en modo lectura\n",
      "f = open(\"file.txt\", 'r')\n",
      "print \"read: %s\" % f.read()\n",
      "f.seek(0)\n",
      "print \"readline: %s\" % f.readline(4)\n",
      "print \"posici\u00f3n del puntero: %s\" % f.tell()\n",
      "f.seek(0)\n",
      "print \"readlines: %s\" % f.readlines()\n",
      "#Cerramos el archivo\n",
      "f.close()\n",
      "\n",
      "\n"
     ],
     "language": "python",
     "metadata": {},
     "outputs": []
    },
    {
     "cell_type": "markdown",
     "metadata": {},
     "source": [
      "<ul>\n",
      "    <li><b>\u2018r\u2019 :</b> read, lectura. Abre el archivo en modo lectura. El archivo tiene que existir previamente, en caso contrario se lanzar\u00e1 una excepci\u00f3n de tipo IOError.</li>\n",
      "<li><b>\u2018w\u2019 :</b> write, escritura. Abre el archivo en modo escritura. Si el archivo no existe se crea. Si existe, sobreescribe el contenido.</li>\n",
      "<li><b>\u2018a\u2019 :</b> append, a\u00f1adir. Abre el archivo en modo escritura. Se diferencia del modo \u2018w\u2019 en que en este caso no se sobreescribe el contenido del archivo, sino que se comienza a escribir al final del archivo.</li>\n",
      "<li><b>\u2018b\u2019 :</b> binary, binario.</li>\n",
      "<li><b>\u2018+\u2019 :</b> permite lectura y escritura simult\u00e1neas.</li>\n",
      "<li><b>\u2018U\u2019 :</b> universal newline, saltos de l\u00ednea universales. Permite trabajar con archivos que tengan un formato para los saltos de l\u00ednea que no coincide con el de la plataforma actual (en Windows se utiliza el car\u00e1cter CR LF, en Unix LF y en Mac OS CR).</li>\n",
      "</ul>"
     ]
    },
    {
     "cell_type": "heading",
     "level": 1,
     "metadata": {},
     "source": [
      "Context Managers"
     ]
    },
    {
     "cell_type": "code",
     "collapsed": false,
     "input": [
      "with open('file.txt', 'r') as f:\n",
      "    #Puedo trabajar con el archivo dentro del c\u00f3digo. El close esta implicito cuando sale del with\n",
      "    print f.read()"
     ],
     "language": "python",
     "metadata": {},
     "outputs": []
    },
    {
     "cell_type": "heading",
     "level": 1,
     "metadata": {},
     "source": [
      "El m\u00f3dulo pickle"
     ]
    },
    {
     "cell_type": "markdown",
     "metadata": {},
     "source": [
      "<ul>\n",
      "    <li>Toma casi cualquier objeto Python, y lo convierte a una representaci\u00f3n de cadena; este proceso se llama picklear.</li>\n",
      "    <li>Reconstruir los objetos desde la representaci\u00f3n en cadena se llama despicklear.</li>\n",
      "    <li>Entre que se picklea y se despicklea, la cadena que representa al objeto puede almacenarse en un archivo, o enviarse a una m\u00e1quina distante por una conexi\u00f3n de red.</li>\n",
      "</ul>\n"
     ]
    },
    {
     "cell_type": "code",
     "collapsed": false,
     "input": [
      "import pickle\n",
      "\n",
      "x = Auto(10)\n",
      "#picklear un objeto x, y guardarlo en un archivo f\n",
      "with open('pickle.txt', 'w') as f:\n",
      "    pickle.dump(x, f)\n",
      "    \n",
      "#despicklear un objeto x desde un archivo f\n",
      "with open('pickle.txt', 'r') as f:\n",
      "    x = pickle.load(f)\n",
      "print \"gasolina: %s\" % x.gasolina\n",
      "\n"
     ],
     "language": "python",
     "metadata": {},
     "outputs": []
    },
    {
     "cell_type": "heading",
     "level": 1,
     "metadata": {},
     "source": [
      "1. Ejercicios"
     ]
    },
    {
     "cell_type": "heading",
     "level": 2,
     "metadata": {},
     "source": [
      "Ejercicio 1.1 "
     ]
    },
    {
     "cell_type": "heading",
     "level": 3,
     "metadata": {},
     "source": [
      "Realizar una funci\u00f3n que reciba un objeto y lo guarde en un archivo utilizando el m\u00f3dulo pickle."
     ]
    },
    {
     "cell_type": "heading",
     "level": 2,
     "metadata": {},
     "source": [
      "Ejercicio 1.2 "
     ]
    },
    {
     "cell_type": "heading",
     "level": 3,
     "metadata": {},
     "source": [
      "Realizar una funci\u00f3n que lea un objeto desde un archivo utilizando el m\u00f3dulo pickle."
     ]
    },
    {
     "cell_type": "heading",
     "level": 2,
     "metadata": {},
     "source": [
      "Ejercicio 1.3 "
     ]
    },
    {
     "cell_type": "heading",
     "level": 3,
     "metadata": {},
     "source": [
      "Realizar una funci\u00f3n que reciba una lista de contactos y genere un archivo csv con los contactos de la lista."
     ]
    },
    {
     "cell_type": "heading",
     "level": 1,
     "metadata": {},
     "source": [
      "Manejo de Excepciones"
     ]
    },
    {
     "cell_type": "code",
     "collapsed": false,
     "input": [
      "def division(a, b):\n",
      "    return a/b\n",
      "print division(4,0)"
     ],
     "language": "python",
     "metadata": {},
     "outputs": []
    },
    {
     "cell_type": "code",
     "collapsed": false,
     "input": [],
     "language": "python",
     "metadata": {},
     "outputs": []
    }
   ],
   "metadata": {}
  }
 ]
}