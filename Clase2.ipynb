{
 "metadata": {
  "name": "Clase2"
 },
 "nbformat": 3,
 "nbformat_minor": 0,
 "worksheets": [
  {
   "cells": [
    {
     "cell_type": "heading",
     "level": 2,
     "metadata": {},
     "source": [
      "Programaci\u00f3n orientada a objetos (POO)"
     ]
    },
    {
     "cell_type": "heading",
     "level": 3,
     "metadata": {},
     "source": [
      "Clases"
     ]
    },
    {
     "cell_type": "code",
     "collapsed": false,
     "input": [
      "class Auto(object):\n",
      "    \"\"\"Abstracci\u00f3n de un automovil.\"\"\"\n",
      "    def __init__(self, gasolina):\n",
      "        self.gasolina = gasolina\n",
      "        print \"Tenemos\", gasolina, \"litros de gasolina\"\n",
      "        \n",
      "    def arrancar(self):\n",
      "        if self.gasolina > 0:\n",
      "            print \"Arranca\"\n",
      "        else:\n",
      "            print \"No arranca\"\n",
      "            \n",
      "    def conducir(self):\n",
      "        if self.gasolina > 0:\n",
      "            self.gasolina -= 1\n",
      "            print \"Quedan\", self.gasolina, \"litros\"\n",
      "        else:\n",
      "            print \"No se mueve\""
     ],
     "language": "python",
     "metadata": {},
     "outputs": []
    },
    {
     "cell_type": "code",
     "collapsed": false,
     "input": [
      "auto = Auto(3)\n",
      "auto.arrancar()\n",
      "auto.conducir()\n",
      "auto.conducir()\n",
      "auto.conducir()\n",
      "auto.conducir()"
     ],
     "language": "python",
     "metadata": {},
     "outputs": []
    },
    {
     "cell_type": "raw",
     "metadata": {},
     "source": [
      "M\u00e9todos de clase:\n",
      "\n",
      "Se definen decorando el m\u00e9todo con el decorador:\n",
      "@classmethod"
     ]
    },
    {
     "cell_type": "raw",
     "metadata": {},
     "source": [
      "Variables de clase:\n",
      "\n",
      "Se define fuera de la definici\u00f3n de los m\u00e9todos."
     ]
    },
    {
     "cell_type": "heading",
     "level": 3,
     "metadata": {},
     "source": [
      "Herencia"
     ]
    },
    {
     "cell_type": "heading",
     "level": 4,
     "metadata": {},
     "source": [
      "Herencia simple"
     ]
    },
    {
     "cell_type": "code",
     "collapsed": false,
     "input": [
      "class Instrumento:\n",
      "\tdef __init__(self, precio):\n",
      "\t\tself.precio = precio\n",
      "        \n",
      "\tdef tocar(self):\n",
      "\t\treturn \"Estamos tocando musica\"\n",
      "        \n",
      "\tdef romper(self):\n",
      "        return \"Eso lo pagas tu. Son $%s\" % self.precio\n",
      "        \n",
      "class Guitarra(Instrumento):\n",
      "    pass\n",
      "\n",
      "class Bateria(Instrumento):\n",
      "    def tocar(self):\n",
      "        return \"Estamos tocando la bateria\"\n"
     ],
     "language": "python",
     "metadata": {},
     "outputs": []
    },
    {
     "cell_type": "code",
     "collapsed": false,
     "input": [
      "guitarra = Guitarra(1000)\n",
      "print guitarra.tocar()\n",
      "print guitarra.romper()\n",
      "\n",
      "bateria = Bateria(2500)\n",
      "print bateria.tocar()\n",
      "print bateria.romper()\n"
     ],
     "language": "python",
     "metadata": {},
     "outputs": []
    },
    {
     "cell_type": "heading",
     "level": 4,
     "metadata": {},
     "source": [
      "Herencia M\u00faltiple"
     ]
    },
    {
     "cell_type": "code",
     "collapsed": false,
     "input": [
      "class Terrestre:\n",
      "    def desplazar(self):\n",
      "        return \"El animal anda\"\n",
      "\n",
      "class Acuatico:\n",
      "    def desplazar(self):\n",
      "        return \"El animal nada\"\n",
      "    \n",
      "class Cocodrilo(Terrestre, Acuatico):\n",
      "    pass"
     ],
     "language": "python",
     "metadata": {},
     "outputs": []
    },
    {
     "cell_type": "code",
     "collapsed": false,
     "input": [
      "cocodrilo = Cocodrilo()\n",
      "cocodrilo.desplazar()"
     ],
     "language": "python",
     "metadata": {},
     "outputs": []
    },
    {
     "cell_type": "heading",
     "level": 3,
     "metadata": {},
     "source": [
      "M\u00e9todos \"m\u00e1gicos\""
     ]
    },
    {
     "cell_type": "heading",
     "level": 4,
     "metadata": {},
     "source": [
      "Aritm\u00e9ticos"
     ]
    },
    {
     "cell_type": "raw",
     "metadata": {},
     "source": [
      "__add__\n",
      "__sub__\n",
      "__mul__\n",
      "__div__"
     ]
    },
    {
     "cell_type": "heading",
     "level": 4,
     "metadata": {},
     "source": [
      "Comparaci\u00f3n"
     ]
    },
    {
     "cell_type": "raw",
     "metadata": {},
     "source": [
      "__cmp__\n",
      "__eq__\n",
      "__lt__\n",
      "__gt__"
     ]
    },
    {
     "cell_type": "heading",
     "level": 4,
     "metadata": {},
     "source": [
      "Context Managers"
     ]
    },
    {
     "cell_type": "raw",
     "metadata": {},
     "source": [
      "__enter__\n",
      "__exit__"
     ]
    },
    {
     "cell_type": "heading",
     "level": 4,
     "metadata": {},
     "source": [
      "Acceso a atributos"
     ]
    },
    {
     "cell_type": "raw",
     "metadata": {},
     "source": [
      "__getattr__\n",
      "__setattr__\n",
      "__delattr__"
     ]
    },
    {
     "cell_type": "heading",
     "level": 4,
     "metadata": {},
     "source": [
      "Constructores/inicializaci\u00f3n"
     ]
    },
    {
     "cell_type": "raw",
     "metadata": {},
     "source": [
      "__init__\n",
      "__new__\n",
      "__del__"
     ]
    },
    {
     "cell_type": "heading",
     "level": 4,
     "metadata": {},
     "source": [
      "Representaci\u00f3n de las clases"
     ]
    },
    {
     "cell_type": "raw",
     "metadata": {},
     "source": [
      "__str__\n",
      "__repr__\n",
      "__unicode__"
     ]
    },
    {
     "cell_type": "heading",
     "level": 4,
     "metadata": {},
     "source": [
      "Secuencias/Diccionarios "
     ]
    },
    {
     "cell_type": "raw",
     "metadata": {},
     "source": [
      "__len__\n",
      "__getitem__\n",
      "__setitem__\n",
      "__iter__"
     ]
    },
    {
     "cell_type": "heading",
     "level": 4,
     "metadata": {},
     "source": [
      "Descriptores de archivos"
     ]
    },
    {
     "cell_type": "raw",
     "metadata": {},
     "source": [
      "__get__\n",
      "__set__\n",
      "__delete__"
     ]
    },
    {
     "cell_type": "heading",
     "level": 3,
     "metadata": {},
     "source": [
      "Objetos conocidos"
     ]
    },
    {
     "cell_type": "raw",
     "metadata": {},
     "source": [
      "Diccionarios: keys(), items(), len(), get(), iteritems()\n",
      "Cadenas de texto: len(), join(), lower(), upper(), split()\n",
      "Listas: append(), insert(), remove(), extends(), pop(), sort(), len()"
     ]
    },
    {
     "cell_type": "heading",
     "level": 3,
     "metadata": {},
     "source": [
      "Encapsulamiento"
     ]
    },
    {
     "cell_type": "code",
     "collapsed": false,
     "input": [
      "class EjemploEncapsulamiento:\n",
      "    \n",
      "    def publico(self):\n",
      "        print \"P\u00fablico\"\n",
      "    \n",
      "    def __privado(self):\n",
      "        print \"Privado\"\n",
      "        \n",
      "    def privado(self):\n",
      "        self.__privado()\n",
      "    \n",
      "   \n",
      "ejemplo = EjemploEncapsulamiento()\n",
      "ejemplo.publico()\n",
      "ejemplo.privado()\n",
      "ejemplo.__privado()"
     ],
     "language": "python",
     "metadata": {},
     "outputs": []
    },
    {
     "cell_type": "code",
     "collapsed": false,
     "input": [
      "class EjemploPropiedades:\n",
      "    def __init__(self):\n",
      "        self._x = None\n",
      "\n",
      "    def getx(self):\n",
      "        return self._x\n",
      "        \n",
      "    def setx(self, value):\n",
      "        self._x = value\n",
      "        \n",
      "    def delx(self):\n",
      "        del self._x\n",
      "        \n",
      "    @property\n",
      "    def propiedad(self):\n",
      "        print \"Propiedad\"\n",
      "        \n",
      "    x = property(getx, setx, delx, \"Propiedad llamada: 'propiedad_completa'.\")\n",
      "\n",
      "ejemplo = EjemploPropiedades()\n",
      "ejemplo.propiedad\n",
      "ejemplo.x = 10\n",
      "ejemplo.x\n",
      "#del ejemplo.x"
     ],
     "language": "python",
     "metadata": {},
     "outputs": []
    },
    {
     "cell_type": "heading",
     "level": 3,
     "metadata": {},
     "source": [
      "Polimorfismo"
     ]
    },
    {
     "cell_type": "raw",
     "metadata": {},
     "source": [
      "Como Python es un lenguaje din\u00e1micamente tipado se puede aprovechar al m\u00e1ximo el polimorfismo."
     ]
    },
    {
     "cell_type": "code",
     "collapsed": false,
     "input": [
      "class AClass:\n",
      "    def __init__(self):\n",
      "        self.list = []\n",
      "        \n",
      "    def add(self, anElement):\n",
      "        self.list.append(anElement)\n",
      "        \n",
      "class AnotherClass:\n",
      "    def __init__(self):\n",
      "        self.set = set([])\n",
      "        \n",
      "    def add(self, anElement):\n",
      "        self.set.add(anElement)\n",
      "        \n",
      "aClass = AClass()\n",
      "aClass.add(1)\n",
      "anotherClass = AnotherClass()\n",
      "anotherClass.add(2)\n",
      "print aClass.list\n",
      "print anotherClass.set\n",
      "        "
     ],
     "language": "python",
     "metadata": {},
     "outputs": []
    },
    {
     "cell_type": "heading",
     "level": 2,
     "metadata": {},
     "source": [
      "3. Ejercicio POO"
     ]
    },
    {
     "cell_type": "raw",
     "metadata": {},
     "source": [
      "3.1 Extender la clase list para que soporte las siguientes funcionalidades (al estilo Smalltalk):\n",
      "\n",
      "first: devuelve el primer elemento\n",
      "second: devuelve el segundo elemento\n",
      "third: devuelve el tercer elemento\n",
      "fourth: devuelve el cuarto elemento\n",
      "fifth: devuelve el quinto elemento\n",
      "last: devuelve el \u00faltimo elemento\n",
      "\n",
      "Estos \u00faltimos ponerlos como properties.\n",
      "\n",
      "select(aCondition): Selecciona los elementos de la lista que cumplen con la condici\u00f3n aCondition\n",
      "reject(aCondition): Elimina los elementos de la lista que cumplen con la condici\u00f3n aCondition\n",
      "collect(aFunction): Colecciona los elementos que resultan de aplicar la funci\u00f3n aFunction a los elementos de la lista\n",
      "injectInto(anElement, aFunction): acumulador. Ejemplo: aList injectInto(0, lambda subTotal, next: subTotal + next) deber\u00eda devolverme la suma de los elementos.\n",
      "detect(aCondition): Detecta si hay un elemento de la lista que cumple la condici\u00f3n aCondition\n",
      "detectIfFoundIfNone(aCondition, aFunction, aFunction)\n",
      "do(aFunction): por cada elemento de la lista realiza la funci\u00f3n aFunction\n",
      "\n",
      "shuffle: mezclar los elementos de la lista\n",
      " \n",
      "isEmpty: indica si la lista esta vacia\n",
      "includes(anElement): indica si la lista contiene el elemento anElement\n",
      "sum: Devuelve el resultado de sumar los elementos de la lista\n",
      "average: Devuelve el promedio de los elementos de la lista\n",
      "max: devuelve el m\u00e1ximo de la lista\n",
      "min: devuelve el m\u00ednimo de la lista\n",
      "\n"
     ]
    }
   ],
   "metadata": {}
  }
 ]
}