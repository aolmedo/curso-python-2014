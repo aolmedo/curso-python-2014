{
 "metadata": {
  "name": "Clase3"
 },
 "nbformat": 3,
 "nbformat_minor": 0,
 "worksheets": [
  {
   "cells": [
    {
     "cell_type": "code",
     "collapsed": false,
     "input": [],
     "language": "python",
     "metadata": {},
     "outputs": []
    },
    {
     "cell_type": "heading",
     "level": 1,
     "metadata": {},
     "source": [
      "Manejo de Excepciones"
     ]
    },
    {
     "cell_type": "code",
     "collapsed": false,
     "input": [
      "def division(a, b):\n",
      "    return a/b\n",
      "\n",
      "print division(4,2)\n",
      "print division(4,0)"
     ],
     "language": "python",
     "metadata": {},
     "outputs": []
    },
    {
     "cell_type": "code",
     "collapsed": false,
     "input": [
      "def division(a, b):\n",
      "    try:\n",
      "        return a/b\n",
      "    except ZeroDivisionError:\n",
      "        print \"No se puede dividir por cero.\"\n",
      "        \n",
      "print division(4,2)\n",
      "division(4,0)"
     ],
     "language": "python",
     "metadata": {},
     "outputs": []
    },
    {
     "cell_type": "code",
     "collapsed": false,
     "input": [
      "try:\n",
      "    num = int(\"3a\")\n",
      "except NameError:\n",
      "    print \"La variable no existe\"\n",
      "except ValueError:\n",
      "    print \"La variable no es un n\u00famero\""
     ],
     "language": "python",
     "metadata": {},
     "outputs": []
    },
    {
     "cell_type": "code",
     "collapsed": false,
     "input": [
      "try:\n",
      "    num = int(\"3a\")\n",
      "except (NameError, ValueError):\n",
      "    print \"Ocurrio un error\""
     ],
     "language": "python",
     "metadata": {},
     "outputs": []
    },
    {
     "cell_type": "code",
     "collapsed": false,
     "input": [
      "def division(a, b):\n",
      "    try:\n",
      "        ret = a / b\n",
      "    except Exception, e:\n",
      "        raise e\n",
      "    else:\n",
      "        return ret*2\n",
      "    \n",
      "division(4,3)"
     ],
     "language": "python",
     "metadata": {},
     "outputs": []
    },
    {
     "cell_type": "code",
     "collapsed": false,
     "input": [
      "try:\n",
      "    file = open('file2.txt', 'w')\n",
      "except IOError, e:\n",
      "\traise e\n",
      "finally:\n",
      "\tfile.close()"
     ],
     "language": "python",
     "metadata": {},
     "outputs": []
    },
    {
     "cell_type": "markdown",
     "metadata": {},
     "source": [
      "<h3>Acciones</h3>\n",
      "<ul>\n",
      "    <li>pass</li>\n",
      "    <li>raise</li>\n",
      "    <li>Realizar una acci\u00f3n espec\u00edfica</li>\n",
      "    <li>Mostrar un mensaje de error</li>\n",
      "    <li>Activar el Debugger</li>\n",
      "</ul>"
     ]
    },
    {
     "cell_type": "heading",
     "level": 2,
     "metadata": {},
     "source": [
      "Excepciones disponibles"
     ]
    },
    {
     "cell_type": "markdown",
     "metadata": {},
     "source": [
      "<ul>\n",
      "    <li>BaseException</li>\n",
      "    <li>Exception(BaseException)</li>\n",
      "    <li>ZeroDivisionError(ArithmeticError)</li>\n",
      "    <li>AttributeError(StandardError)</li>\n",
      "    <li>IOError(EnvironmentError)</li>\n",
      "    <li>ImportError(StandardError)</li>\n",
      "    <li>IndexError(LookupError)</li>\n",
      "    <li>KeyError(LookupError)</li>\n",
      "    <li>NameError(StandardError)</li>\n",
      "    <li>NotImplementedError(RuntimeError)</li>\n",
      "    <li>ValueError(StandardError)</li>\n",
      "    <li>RuntimeError(StandardError)</li>\n",
      "    <li>SyntaxError(StandardError)</li>\n",
      "    <li>TypeError(StandardError)</li>\n",
      "    <li>IndentationError(SyntaxError)</li>\n",
      "</ul>"
     ]
    },
    {
     "cell_type": "heading",
     "level": 2,
     "metadata": {},
     "source": [
      "Definir excepciones propias"
     ]
    },
    {
     "cell_type": "code",
     "collapsed": false,
     "input": [
      "class MiError(Exception):\n",
      "    \n",
      "    def __init__(self, valor):\n",
      "        self.valor = valor\n",
      "    \n",
      "    def __str__(self):\n",
      "        return \"Error \" + str(self.valor)\n",
      "\n",
      "resultado = 34\n",
      "try:\n",
      "    if resultado > 20:\n",
      "        raise MiError(33)\n",
      "except MiError, e:\n",
      "    print e"
     ],
     "language": "python",
     "metadata": {},
     "outputs": []
    },
    {
     "cell_type": "heading",
     "level": 2,
     "metadata": {},
     "source": [
      "3 Ejercicios"
     ]
    },
    {
     "cell_type": "heading",
     "level": 4,
     "metadata": {},
     "source": [
      "3.1 Manejar las excepciones en las funciones de los ejemplos anteriores."
     ]
    }
   ],
   "metadata": {}
  }
 ]
}
