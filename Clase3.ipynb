{
 "metadata": {
  "name": "Clase3"
 },
 "nbformat": 3,
 "nbformat_minor": 0,
 "worksheets": [
  {
   "cells": [
    {
     "cell_type": "heading",
     "level": 1,
     "metadata": {},
     "source": [
      "Manejo de Excepciones"
     ]
    },
    {
     "cell_type": "code",
     "collapsed": false,
     "input": [
      "def division(a, b):\n",
      "    return a/b\n",
      "\n",
      "print division(4,2)\n",
      "print division(4,0)"
     ],
     "language": "python",
     "metadata": {},
     "outputs": []
    },
    {
     "cell_type": "code",
     "collapsed": false,
     "input": [
      "def division(a, b):\n",
      "    try:\n",
      "        return a/b\n",
      "    except ZeroDivisionError:\n",
      "        print \"No se puede dividir por cero.\"\n",
      "        \n",
      "print division(4,2)\n",
      "division(4,0)"
     ],
     "language": "python",
     "metadata": {},
     "outputs": []
    },
    {
     "cell_type": "code",
     "collapsed": false,
     "input": [
      "try:\n",
      "    num = int(\"3a\")\n",
      "except NameError:\n",
      "    print \"La variable no existe\"\n",
      "except ValueError:\n",
      "    print \"La variable no es un n\u00famero\""
     ],
     "language": "python",
     "metadata": {},
     "outputs": []
    },
    {
     "cell_type": "code",
     "collapsed": false,
     "input": [
      "try:\n",
      "    num = int(\"3a\")\n",
      "except (NameError, ValueError):\n",
      "    print \"Ocurrio un error\""
     ],
     "language": "python",
     "metadata": {},
     "outputs": []
    },
    {
     "cell_type": "code",
     "collapsed": false,
     "input": [
      "def division(a, b):\n",
      "    try:\n",
      "        ret = a / b\n",
      "    except Exception, e:\n",
      "        raise e\n",
      "    else:\n",
      "        return ret*2\n",
      "    \n",
      "division(4,3)"
     ],
     "language": "python",
     "metadata": {},
     "outputs": []
    },
    {
     "cell_type": "code",
     "collapsed": false,
     "input": [
      "try:\n",
      "    file = open('file2.txt', 'w')\n",
      "except IOError, e:\n",
      "\traise e\n",
      "finally:\n",
      "\tfile.close()"
     ],
     "language": "python",
     "metadata": {},
     "outputs": []
    },
    {
     "cell_type": "markdown",
     "metadata": {},
     "source": [
      "<h3>Acciones</h3>\n",
      "<ul>\n",
      "    <li>pass</li>\n",
      "    <li>raise</li>\n",
      "    <li>Realizar una acci\u00f3n espec\u00edfica</li>\n",
      "    <li>Mostrar un mensaje de error</li>\n",
      "    <li>Activar el Debugger</li>\n",
      "</ul>"
     ]
    },
    {
     "cell_type": "heading",
     "level": 2,
     "metadata": {},
     "source": [
      "Excepciones disponibles"
     ]
    },
    {
     "cell_type": "markdown",
     "metadata": {},
     "source": [
      "<ul>\n",
      "    <li>BaseException</li>\n",
      "    <li>Exception(BaseException)</li>\n",
      "    <li>ZeroDivisionError(ArithmeticError)</li>\n",
      "    <li>AttributeError(StandardError)</li>\n",
      "    <li>IOError(EnvironmentError)</li>\n",
      "    <li>ImportError(StandardError)</li>\n",
      "    <li>IndexError(LookupError)</li>\n",
      "    <li>KeyError(LookupError)</li>\n",
      "    <li>NameError(StandardError)</li>\n",
      "    <li>NotImplementedError(RuntimeError)</li>\n",
      "    <li>ValueError(StandardError)</li>\n",
      "    <li>RuntimeError(StandardError)</li>\n",
      "    <li>SyntaxError(StandardError)</li>\n",
      "    <li>TypeError(StandardError)</li>\n",
      "    <li>IndentationError(SyntaxError)</li>\n",
      "</ul>"
     ]
    },
    {
     "cell_type": "heading",
     "level": 2,
     "metadata": {},
     "source": [
      "Definir excepciones propias"
     ]
    },
    {
     "cell_type": "code",
     "collapsed": false,
     "input": [
      "class MiError(Exception):\n",
      "    \n",
      "    def __init__(self, valor):\n",
      "        self.valor = valor\n",
      "    \n",
      "    def __str__(self):\n",
      "        return \"Error \" + str(self.valor)\n",
      "\n",
      "resultado = 34\n",
      "try:\n",
      "    if resultado > 20:\n",
      "        raise MiError(33)\n",
      "except MiError, e:\n",
      "    print e"
     ],
     "language": "python",
     "metadata": {},
     "outputs": []
    },
    {
     "cell_type": "heading",
     "level": 2,
     "metadata": {},
     "source": [
      "3 Ejercicios"
     ]
    },
    {
     "cell_type": "heading",
     "level": 4,
     "metadata": {},
     "source": [
      "3.1 Manejar las excepciones en las funciones de los ejemplos anteriores."
     ]
    },
    {
     "cell_type": "heading",
     "level": 1,
     "metadata": {},
     "source": [
      "M\u00f3dulos y paquetes"
     ]
    },
    {
     "cell_type": "markdown",
     "metadata": {},
     "source": [
      "<ul>\n",
      "    <li>Los m\u00f3dulos sirven para organizar los programas largos.</li>\n",
      "    <li>En python, los archivos son m\u00f3dulos.</li>\n",
      "    <li>Para importar m\u00f3dulos se usa la estructura import</li>\n",
      "    <li>Los paquetes sirven para organizar los m\u00f3dulos</li>\n",
      "    <li>En python, los directorios son los paquetes</li>\n",
      "        <li>Para importar una clase, funci\u00f3n, constante, etc. particular utilizamos la estructura from-import</li>\n",
      "</ul>\n",
      "\n",
      "<p><b>Ejemplos:</b></p>\n",
      "<p>import datetime</p>\n",
      "<p>import sys, os, datetime</p>\n",
      "<p>import agenda</p>\n",
      "<p>from model.agenda import Contacto</p>\n"
     ]
    },
    {
     "cell_type": "heading",
     "level": 3,
     "metadata": {},
     "source": [
      "El PYTHONPATH"
     ]
    },
    {
     "cell_type": "markdown",
     "metadata": {},
     "source": [
      "<p>Es una variable de entorno que contiene una lista de directorios donde el int\u00e9rprete busca un archivo con el nombre adecuado.</p>\n",
      "<p>El PYTHONPATH se puede consultar de la siguiente manera:</p>"
     ]
    },
    {
     "cell_type": "code",
     "collapsed": false,
     "input": [
      "import sys\n",
      "print sys.path\n",
      "sys.path.append('/home/aolmedo/curso-python-2014/agenda')\n",
      "#sys.path.append('C:\\\\agenda\\\\')"
     ],
     "language": "python",
     "metadata": {},
     "outputs": []
    },
    {
     "cell_type": "markdown",
     "metadata": {},
     "source": [
      "<p>El int\u00e9rprete primero busca en el directorio actual.</p>\n",
      "<p>Luego busca en el PYTHONPATH.</p>"
     ]
    },
    {
     "cell_type": "heading",
     "level": 1,
     "metadata": {},
     "source": [
      "Trabajando con Fechas: m\u00f3dulo datetime"
     ]
    },
    {
     "cell_type": "code",
     "collapsed": false,
     "input": [
      "import datetime\n",
      "\n",
      "hoy = datetime.date.today()\n",
      "print hoy\n",
      "\n",
      "ahora = datetime.datetime.now()\n",
      "print ahora\n",
      "\n",
      "ayer = hoy - datetime.timedelta(days=1)\n",
      "print ayer\n",
      "\n",
      "diff = hoy - ayer\n",
      "print diff"
     ],
     "language": "python",
     "metadata": {},
     "outputs": []
    },
    {
     "cell_type": "heading",
     "level": 1,
     "metadata": {},
     "source": [
      "Probando nuestro sistema"
     ]
    },
    {
     "cell_type": "heading",
     "level": 3,
     "metadata": {},
     "source": [
      "El m\u00f3dulo doctest"
     ]
    },
    {
     "cell_type": "code",
     "collapsed": false,
     "input": [
      "def promedio(valores):\n",
      "    \"\"\"Calcula el promedio de una lista de n\u00fameros\n",
      "    \n",
      "    >>> print promedio([20, 30, 70])\n",
      "    40.0\n",
      "    \"\"\"\n",
      "    return sum(valores, 0.0) / len(valores)\n",
      "\n",
      "#import doctest\n",
      "#doctest.testmod() #valida autom\u00e1ticamente las pruebas integradas"
     ],
     "language": "python",
     "metadata": {},
     "outputs": []
    },
    {
     "cell_type": "heading",
     "level": 3,
     "metadata": {},
     "source": [
      "El m\u00f3dulo unittest"
     ]
    },
    {
     "cell_type": "code",
     "collapsed": false,
     "input": [
      "import unittest\n",
      "\n",
      "class PromedioTestCase(unittest.TestCase):\n",
      "    \n",
      "    def test_promedio(self):\n",
      "        self.assertEquals(40.0, promedio([20, 30, 70]))\n",
      "        \n",
      "unittest.main() #llamarlo de la linea de comando ejecuta todas las pruebas"
     ],
     "language": "python",
     "metadata": {},
     "outputs": []
    }
   ],
   "metadata": {}
  }
 ]
}